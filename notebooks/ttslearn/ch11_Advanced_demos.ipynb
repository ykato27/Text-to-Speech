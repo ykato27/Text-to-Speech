{
  "nbformat": 4,
  "nbformat_minor": 5,
  "metadata": {
    "kernelspec": {
      "display_name": "Python 3",
      "language": "python",
      "name": "python3"
    },
    "language_info": {
      "codemirror_mode": {
        "name": "ipython",
        "version": 3
      },
      "file_extension": ".py",
      "mimetype": "text/x-python",
      "name": "python",
      "nbconvert_exporter": "python",
      "pygments_lexer": "ipython3",
      "version": "3.8.6"
    },
    "colab": {
      "name": "ch11_Advanced-demos.ipynb",
      "provenance": [],
      "collapsed_sections": [],
      "include_colab_link": true
    }
  },
  "cells": [
    {
      "cell_type": "markdown",
      "metadata": {
        "id": "view-in-github",
        "colab_type": "text"
      },
      "source": [
        "<a href=\"https://colab.research.google.com/github/ykato27/Text-to-Speech/blob/main/ch11_Advanced_demos.ipynb\" target=\"_parent\"><img src=\"https://colab.research.google.com/assets/colab-badge.svg\" alt=\"Open In Colab\"/></a>"
      ]
    },
    {
      "cell_type": "markdown",
      "metadata": {
        "id": "cordless-civilization"
      },
      "source": [
        "# Advanced TTS demos"
      ],
      "id": "cordless-civilization"
    },
    {
      "cell_type": "markdown",
      "metadata": {
        "id": "chinese-headquarters"
      },
      "source": [
        "\n",
        "このページ（ノートブック形式）では、第11章で少し触れた「非自己回帰型ニューラルボコーダ」を用いた、発展的な音声合成のデモを示します。\n",
        "書籍ではJSUTコーパスのみを扱いましたが、ここではJVSコーパスを用いた多話者音声合成など、他のコーパスを利用した音声合成のデモも紹介します。\n",
        "このページのデモは、書籍では解説していないことに注意してください。\n",
        "\n",
        "非自己回帰型ニューラルボコーダの実装には、[kan-bayashi/ParallelWaveGAN](https://github.com/kan-bayashi/ParallelWaveGAN) を利用します。\n",
        "多話者音声合成の実装は、書籍では実装の解説はしていませんが、第9章、第10章の内容に、軽微な修正を加えることで実現可能です。\n",
        "興味のある読者は、extra_recipes のソースコードを参照してください。"
      ],
      "id": "chinese-headquarters"
    },
    {
      "cell_type": "markdown",
      "metadata": {
        "id": "assumed-karaoke"
      },
      "source": [
        "## 準備"
      ],
      "id": "assumed-karaoke"
    },
    {
      "cell_type": "markdown",
      "metadata": {
        "id": "angry-choice"
      },
      "source": [
        "### ttslearn のインストール"
      ],
      "id": "angry-choice"
    },
    {
      "cell_type": "code",
      "metadata": {
        "id": "operational-sacrifice"
      },
      "source": [
        "%%capture\n",
        "try:\n",
        "    import ttslearn\n",
        "except ImportError:\n",
        "    !pip install ttslearn"
      ],
      "id": "operational-sacrifice",
      "execution_count": null,
      "outputs": []
    },
    {
      "cell_type": "code",
      "metadata": {
        "id": "seeing-charm"
      },
      "source": [
        "import ttslearn\n",
        "ttslearn.__version__"
      ],
      "id": "seeing-charm",
      "execution_count": null,
      "outputs": []
    },
    {
      "cell_type": "markdown",
      "metadata": {
        "id": "assured-tuner"
      },
      "source": [
        "### パッケージのインポート"
      ],
      "id": "assured-tuner"
    },
    {
      "cell_type": "code",
      "metadata": {
        "id": "conscious-andorra"
      },
      "source": [
        "%pylab inline\n",
        "import IPython\n",
        "from IPython.display import Audio\n",
        "import librosa\n",
        "import librosa.display\n",
        "from tqdm.notebook import tqdm\n",
        "import torch\n",
        "import random"
      ],
      "id": "conscious-andorra",
      "execution_count": null,
      "outputs": []
    },
    {
      "cell_type": "markdown",
      "metadata": {
        "id": "beautiful-typing"
      },
      "source": [
        "## JSUT"
      ],
      "id": "beautiful-typing"
    },
    {
      "cell_type": "markdown",
      "metadata": {
        "id": "insured-trash"
      },
      "source": [
        "### Tacotron + Parallel WaveGAN (16kHz）"
      ],
      "id": "insured-trash"
    },
    {
      "cell_type": "code",
      "metadata": {
        "id": "connected-palestinian"
      },
      "source": [
        "from ttslearn.contrib import Tacotron2PWGTTS\n",
        "\n",
        "if torch.cuda.is_available():\n",
        "    device = torch.device(\"cuda\")\n",
        "else:\n",
        "    device = torch.device(\"cpu\")\n",
        "print(\"Device:\", device)\n",
        "\n",
        "pwg_engine = Tacotron2PWGTTS(device=device)\n",
        "\n",
        "%time wav, sr = pwg_engine.tts(\"あらゆる現実を、すべて自分のほうへねじ曲げたのだ。\")\n",
        "IPython.display.display(Audio(wav, rate=sr))"
      ],
      "id": "connected-palestinian",
      "execution_count": null,
      "outputs": []
    },
    {
      "cell_type": "markdown",
      "metadata": {
        "id": "supported-implementation"
      },
      "source": [
        "### Tacotron + Parallel WaveGAN (24kHz）"
      ],
      "id": "supported-implementation"
    },
    {
      "cell_type": "code",
      "metadata": {
        "id": "radical-health"
      },
      "source": [
        "from ttslearn.pretrained import create_tts_engine\n",
        "\n",
        "pwg_engine = create_tts_engine(\"tacotron2_pwg_jsut24k\", device=device)\n",
        "\n",
        "%time wav, sr = pwg_engine.tts(\"あらゆる現実を、すべて自分のほうへねじ曲げたのだ。\")\n",
        "IPython.display.display(Audio(wav, rate=sr))"
      ],
      "id": "radical-health",
      "execution_count": null,
      "outputs": []
    },
    {
      "cell_type": "markdown",
      "metadata": {
        "id": "successful-break"
      },
      "source": [
        "### Tacotron + HiFi-GAN (24kHz）"
      ],
      "id": "successful-break"
    },
    {
      "cell_type": "code",
      "metadata": {
        "id": "accepted-milwaukee"
      },
      "source": [
        "from ttslearn.pretrained import create_tts_engine\n",
        "\n",
        "pwg_engine = create_tts_engine(\"tacotron2_hifipwg_jsut24k\", device=device)\n",
        "\n",
        "%time wav, sr = pwg_engine.tts(\"あらゆる現実を、すべて自分のほうへねじ曲げたのだ。\")\n",
        "IPython.display.display(Audio(wav, rate=sr))"
      ],
      "id": "accepted-milwaukee",
      "execution_count": null,
      "outputs": []
    },
    {
      "cell_type": "markdown",
      "metadata": {
        "id": "complicated-necessity"
      },
      "source": [
        "## JVS "
      ],
      "id": "complicated-necessity"
    },
    {
      "cell_type": "markdown",
      "metadata": {
        "id": "congressional-champagne"
      },
      "source": [
        "### Multi-speaker Tacotron + Parallel WaveGAN (16kHz）"
      ],
      "id": "congressional-champagne"
    },
    {
      "cell_type": "code",
      "metadata": {
        "id": "infectious-company"
      },
      "source": [
        "pwg_engine = create_tts_engine(\"multspk_tacotron2_pwg_jvs16k\", device=device)\n",
        "for spk in [\"jvs001\", \"jvs010\", \"jvs030\", \"jvs050\", \"jvs100\"]:\n",
        "    text = \"タコスと寿司、あなたはどっちが好きですか？わたしは\" + (\"寿司\" if random.random() > 0.2 else \"タコス\") + \"が好きです。\"\n",
        "    wav, sr = pwg_engine.tts(text, spk_id=pwg_engine.spk2id[spk])\n",
        "    print(f\"Speaker: {spk}\")\n",
        "    print(text)\n",
        "    IPython.display.display(Audio(wav, rate=sr))"
      ],
      "id": "infectious-company",
      "execution_count": null,
      "outputs": []
    },
    {
      "cell_type": "markdown",
      "metadata": {
        "id": "advised-picture"
      },
      "source": [
        "### Multi-speaker Tacotron + Parallel WaveGAN (24kHz）"
      ],
      "id": "advised-picture"
    },
    {
      "cell_type": "code",
      "metadata": {
        "id": "decreased-blond"
      },
      "source": [
        "pwg_engine = create_tts_engine(\"multspk_tacotron2_pwg_jvs24k\", device=device)\n",
        "for spk in [\"jvs001\", \"jvs010\", \"jvs030\", \"jvs050\", \"jvs100\"]:\n",
        "    text = \"タコスと寿司、あなたはどっちが好きですか？わたしは\" + (\"寿司\" if random.random() > 0.2 else \"タコス\") + \"が好きです。\"\n",
        "    wav, sr = pwg_engine.tts(text, spk_id=pwg_engine.spk2id[spk])\n",
        "    print(f\"Speaker: {spk}\")\n",
        "    print(text)\n",
        "    IPython.display.display(Audio(wav, rate=sr))"
      ],
      "id": "decreased-blond",
      "execution_count": null,
      "outputs": []
    },
    {
      "cell_type": "markdown",
      "metadata": {
        "id": "documented-finland"
      },
      "source": [
        "### Multi-speaker Tacotron + HiFi-GAN (24kHz）"
      ],
      "id": "documented-finland"
    },
    {
      "cell_type": "code",
      "metadata": {
        "id": "classified-needle"
      },
      "source": [
        "pwg_engine = create_tts_engine(\"multspk_tacotron2_hifipwg_jvs24k\", device=device)\n",
        "for spk in [\"jvs001\", \"jvs010\", \"jvs030\", \"jvs050\", \"jvs100\"]:\n",
        "    text = \"タコスと寿司、あなたはどっちが好きですか？わたしは\" + (\"寿司\" if random.random() > 0.2 else \"タコス\") + \"が好きです。\"\n",
        "    wav, sr = pwg_engine.tts(text, spk_id=pwg_engine.spk2id[spk])\n",
        "    print(f\"Speaker: {spk}\")\n",
        "    print(text)\n",
        "    IPython.display.display(Audio(wav, rate=sr))"
      ],
      "id": "classified-needle",
      "execution_count": null,
      "outputs": []
    },
    {
      "cell_type": "markdown",
      "metadata": {
        "id": "cloudy-premiere"
      },
      "source": [
        "## Common voice (ja)"
      ],
      "id": "cloudy-premiere"
    },
    {
      "cell_type": "markdown",
      "metadata": {
        "id": "destroyed-samoa"
      },
      "source": [
        "### Multi-speaker Tacotron + Parallel WaveGAN (16kHz）"
      ],
      "id": "destroyed-samoa"
    },
    {
      "cell_type": "code",
      "metadata": {
        "id": "victorian-vocabulary"
      },
      "source": [
        "pwg_engine = create_tts_engine(\"multspk_tacotron2_pwg_cv16k\", device=device)\n",
        "# NOTE: some speaker's voice have significant amount of noise (e.g., speaker 0)\n",
        "for spk_id in [5, 6, 12, 15, 19]:\n",
        "    text = (\"今日\" if random.random() > 0.5 else \"明日\") + \"の天気は、\" +  (\"晴れ時々曇り\" if random.random() > 0.5 else \"晴れ\") + \"です。\"\n",
        "    wav, sr = pwg_engine.tts(text, spk_id=spk_id)\n",
        "    print(f\"Speaker ID: {spk_id}\")\n",
        "    print(text)\n",
        "    IPython.display.display(Audio(wav, rate=sr))"
      ],
      "id": "victorian-vocabulary",
      "execution_count": null,
      "outputs": []
    },
    {
      "cell_type": "markdown",
      "metadata": {
        "id": "royal-michael"
      },
      "source": [
        "### Multi-speaker Tacotron + Parallel WaveGAN (24kHz）"
      ],
      "id": "royal-michael"
    },
    {
      "cell_type": "code",
      "metadata": {
        "id": "premium-louisiana"
      },
      "source": [
        "pwg_engine = create_tts_engine(\"multspk_tacotron2_pwg_cv24k\", device=device)\n",
        "# NOTE: some speaker's voice have significant amount of noise (e.g., speaker 0)\n",
        "for spk_id in [5, 6, 12, 15, 19]:\n",
        "    text = (\"今日\" if random.random() > 0.5 else \"明日\") + \"の天気は、\" +  (\"晴れ時々曇り\" if random.random() > 0.5 else \"晴れ\") + \"です。\"\n",
        "    wav, sr = pwg_engine.tts(text, spk_id=spk_id)\n",
        "    print(f\"Speaker ID: {spk_id}\")\n",
        "    print(text)\n",
        "    IPython.display.display(Audio(wav, rate=sr))"
      ],
      "id": "premium-louisiana",
      "execution_count": null,
      "outputs": []
    },
    {
      "cell_type": "markdown",
      "metadata": {
        "id": "economic-stress"
      },
      "source": [
        "## 参考\n",
        "\n",
        "- Parallel WaveGAN: https://arxiv.org/abs/1910.11480\n",
        "- HiFi-GAN: https://arxiv.org/abs/2010.05646\n",
        "- Parallel WaveGANを含むGANベースの非自己回帰型ニューラルボコーダの実装: https://github.com/kan-bayashi/ParallelWaveGAN"
      ],
      "id": "economic-stress"
    }
  ]
}